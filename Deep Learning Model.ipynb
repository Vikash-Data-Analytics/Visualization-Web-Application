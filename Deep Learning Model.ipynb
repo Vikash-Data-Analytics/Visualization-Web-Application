{
 "cells": [
  {
   "cell_type": "code",
   "execution_count": 1,
   "id": "8affa0ce",
   "metadata": {},
   "outputs": [],
   "source": [
    "import numpy as np\n",
    "import pandas as pd\n",
    "from fastapi import FastAPI, HTTPException\n",
    "from keras.layers import LSTM, Dense, Dropout\n",
    "from keras.models import Sequential\n",
    "from pydantic import BaseModel\n",
    "from sklearn.preprocessing import MinMaxScaler\n",
    "import yfinance as yf\n",
    "import matplotlib.pyplot as plt"
   ]
  },
  {
   "cell_type": "code",
   "execution_count": 2,
   "id": "0ff0f3fa",
   "metadata": {},
   "outputs": [
    {
     "name": "stdout",
     "output_type": "stream",
     "text": [
      "[*********************100%***********************]  1 of 1 completed\n"
     ]
    }
   ],
   "source": [
    "df = yf.download(tickers = 'RELIANCE.NS', period = '3600d', interval = '1d')"
   ]
  },
  {
   "cell_type": "code",
   "execution_count": 3,
   "id": "ef635f45",
   "metadata": {},
   "outputs": [
    {
     "data": {
      "text/plain": [
       "(array([[3.593e+03, 0.000e+00, 0.000e+00, 0.000e+00, 0.000e+00, 0.000e+00,\n",
       "         0.000e+00, 0.000e+00, 0.000e+00, 0.000e+00],\n",
       "        [3.593e+03, 0.000e+00, 0.000e+00, 0.000e+00, 0.000e+00, 0.000e+00,\n",
       "         0.000e+00, 0.000e+00, 0.000e+00, 0.000e+00],\n",
       "        [3.593e+03, 0.000e+00, 0.000e+00, 0.000e+00, 0.000e+00, 0.000e+00,\n",
       "         0.000e+00, 0.000e+00, 0.000e+00, 0.000e+00],\n",
       "        [3.593e+03, 0.000e+00, 0.000e+00, 0.000e+00, 0.000e+00, 0.000e+00,\n",
       "         0.000e+00, 0.000e+00, 0.000e+00, 0.000e+00],\n",
       "        [3.593e+03, 0.000e+00, 0.000e+00, 0.000e+00, 0.000e+00, 0.000e+00,\n",
       "         0.000e+00, 0.000e+00, 0.000e+00, 0.000e+00],\n",
       "        [2.245e+03, 1.046e+03, 2.030e+02, 6.300e+01, 2.300e+01, 5.000e+00,\n",
       "         2.000e+00, 5.000e+00, 0.000e+00, 1.000e+00]]),\n",
       " array([       0.        ,  8706177.9       , 17412355.8       ,\n",
       "        26118533.7       , 34824711.6       , 43530889.5       ,\n",
       "        52237067.40000001, 60943245.3       , 69649423.2       ,\n",
       "        78355601.10000001, 87061779.        ]),\n",
       " <a list of 6 BarContainer objects>)"
      ]
     },
     "execution_count": 3,
     "metadata": {},
     "output_type": "execute_result"
    },
    {
     "data": {
      "image/png": "[encoded data removed]",
      "text/plain": [
       "<Figure size 640x480 with 1 Axes>"
      ]
     },
     "metadata": {},
     "output_type": "display_data"
    }
   ],
   "source": [
    "plt.hist(df)"
   ]
  },
  {
   "cell_type": "code",
   "execution_count": 4,
   "id": "f5c20420",
   "metadata": {},
   "outputs": [
    {
     "data": {
      "text/plain": [
       "(3593, 6)"
      ]
     },
     "execution_count": 4,
     "metadata": {},
     "output_type": "execute_result"
    }
   ],
   "source": [
    "df.shape"
   ]
  },
  {
   "cell_type": "code",
   "execution_count": 5,
   "id": "b74716e0",
   "metadata": {},
   "outputs": [
    {
     "name": "stdout",
     "output_type": "stream",
     "text": [
      "Shape of x_train: (3144, 90)\n",
      "Shape of y_train: (3144,)\n",
      "Epoch 1/100\n",
      "50/50 [==============================] - 16s 262ms/step - loss: 0.0074 - mean_squared_error: 0.0074\n",
      "Epoch 2/100\n",
      "50/50 [==============================] - 14s 272ms/step - loss: 9.7894e-04 - mean_squared_error: 9.7894e-04\n",
      "Epoch 3/100\n",
      "50/50 [==============================] - 14s 275ms/step - loss: 9.8039e-04 - mean_squared_error: 9.8039e-04\n",
      "Epoch 4/100\n",
      "50/50 [==============================] - 14s 279ms/step - loss: 9.4414e-04 - mean_squared_error: 9.4414e-04\n",
      "Epoch 5/100\n",
      "50/50 [==============================] - 14s 284ms/step - loss: 8.1215e-04 - mean_squared_error: 8.1215e-04\n",
      "Epoch 6/100\n",
      "50/50 [==============================] - 14s 288ms/step - loss: 8.5430e-04 - mean_squared_error: 8.5430e-04\n",
      "Epoch 7/100\n",
      "50/50 [==============================] - 14s 285ms/step - loss: 8.0217e-04 - mean_squared_error: 8.0217e-04\n",
      "Epoch 8/100\n",
      "50/50 [==============================] - 14s 288ms/step - loss: 6.7328e-04 - mean_squared_error: 6.7328e-04\n",
      "Epoch 9/100\n",
      "50/50 [==============================] - 14s 289ms/step - loss: 7.9656e-04 - mean_squared_error: 7.9656e-04\n",
      "Epoch 10/100\n",
      "50/50 [==============================] - 14s 288ms/step - loss: 8.0947e-04 - mean_squared_error: 8.0947e-04\n",
      "Epoch 11/100\n",
      "50/50 [==============================] - 14s 288ms/step - loss: 6.9150e-04 - mean_squared_error: 6.9150e-04\n",
      "Epoch 12/100\n",
      "50/50 [==============================] - 15s 296ms/step - loss: 8.1736e-04 - mean_squared_error: 8.1736e-04\n",
      "Epoch 13/100\n",
      "50/50 [==============================] - 15s 299ms/step - loss: 7.0538e-04 - mean_squared_error: 7.0538e-04\n",
      "Epoch 14/100\n",
      "50/50 [==============================] - 15s 295ms/step - loss: 9.0510e-04 - mean_squared_error: 9.0510e-04\n",
      "Epoch 15/100\n",
      "50/50 [==============================] - 15s 298ms/step - loss: 6.9207e-04 - mean_squared_error: 6.9207e-04\n",
      "Epoch 16/100\n",
      "50/50 [==============================] - 15s 299ms/step - loss: 5.7900e-04 - mean_squared_error: 5.7900e-04\n",
      "Epoch 17/100\n",
      "50/50 [==============================] - 15s 298ms/step - loss: 5.9738e-04 - mean_squared_error: 5.9738e-04\n",
      "Epoch 18/100\n",
      "50/50 [==============================] - 15s 300ms/step - loss: 5.9726e-04 - mean_squared_error: 5.9726e-04\n",
      "Epoch 19/100\n",
      "50/50 [==============================] - 15s 304ms/step - loss: 5.5534e-04 - mean_squared_error: 5.5534e-04\n",
      "Epoch 20/100\n",
      "50/50 [==============================] - 15s 301ms/step - loss: 6.3316e-04 - mean_squared_error: 6.3316e-04\n",
      "Epoch 21/100\n",
      "50/50 [==============================] - 15s 303ms/step - loss: 6.2618e-04 - mean_squared_error: 6.2618e-04\n",
      "Epoch 22/100\n",
      "50/50 [==============================] - 16s 311ms/step - loss: 5.3622e-04 - mean_squared_error: 5.3622e-04\n",
      "Epoch 23/100\n",
      "50/50 [==============================] - 15s 299ms/step - loss: 5.4580e-04 - mean_squared_error: 5.4580e-04\n",
      "Epoch 24/100\n",
      "50/50 [==============================] - 15s 301ms/step - loss: 5.9174e-04 - mean_squared_error: 5.9174e-04\n",
      "Epoch 25/100\n",
      "50/50 [==============================] - 15s 307ms/step - loss: 5.8039e-04 - mean_squared_error: 5.8039e-04\n",
      "Epoch 26/100\n",
      "50/50 [==============================] - 15s 299ms/step - loss: 6.3384e-04 - mean_squared_error: 6.3384e-04\n",
      "Epoch 27/100\n",
      "50/50 [==============================] - 15s 296ms/step - loss: 4.8643e-04 - mean_squared_error: 4.8643e-04\n",
      "Epoch 28/100\n",
      "50/50 [==============================] - 15s 299ms/step - loss: 5.1075e-04 - mean_squared_error: 5.1075e-04\n",
      "Epoch 29/100\n",
      "50/50 [==============================] - 15s 301ms/step - loss: 5.3434e-04 - mean_squared_error: 5.3434e-04\n",
      "Epoch 30/100\n",
      "50/50 [==============================] - 15s 301ms/step - loss: 5.8556e-04 - mean_squared_error: 5.8556e-04\n",
      "Epoch 31/100\n",
      "50/50 [==============================] - 15s 303ms/step - loss: 5.5509e-04 - mean_squared_error: 5.5509e-04\n",
      "Epoch 32/100\n",
      "50/50 [==============================] - 15s 304ms/step - loss: 4.9670e-04 - mean_squared_error: 4.9670e-04\n",
      "Epoch 33/100\n",
      "50/50 [==============================] - 15s 304ms/step - loss: 4.8747e-04 - mean_squared_error: 4.8747e-04\n",
      "Epoch 34/100\n",
      "50/50 [==============================] - 15s 301ms/step - loss: 5.3777e-04 - mean_squared_error: 5.3777e-04\n",
      "Epoch 35/100\n",
      "50/50 [==============================] - 15s 307ms/step - loss: 4.3785e-04 - mean_squared_error: 4.3785e-04\n",
      "Epoch 36/100\n",
      "50/50 [==============================] - 15s 302ms/step - loss: 4.8890e-04 - mean_squared_error: 4.8890e-04\n",
      "Epoch 37/100\n",
      "50/50 [==============================] - 15s 303ms/step - loss: 4.9025e-04 - mean_squared_error: 4.9025e-04\n",
      "Epoch 38/100\n",
      "50/50 [==============================] - 15s 305ms/step - loss: 4.8667e-04 - mean_squared_error: 4.8667e-04\n",
      "Epoch 39/100\n",
      "50/50 [==============================] - 15s 304ms/step - loss: 4.8303e-04 - mean_squared_error: 4.8303e-04\n",
      "Epoch 40/100\n",
      "50/50 [==============================] - 15s 305ms/step - loss: 5.3620e-04 - mean_squared_error: 5.3620e-04\n",
      "Epoch 41/100\n",
      "50/50 [==============================] - 15s 307ms/step - loss: 4.3074e-04 - mean_squared_error: 4.3074e-04\n",
      "Epoch 42/100\n",
      "50/50 [==============================] - 15s 302ms/step - loss: 4.8113e-04 - mean_squared_error: 4.8113e-04\n",
      "Epoch 43/100\n",
      "50/50 [==============================] - 15s 299ms/step - loss: 4.9890e-04 - mean_squared_error: 4.9890e-04\n",
      "Epoch 44/100\n",
      "50/50 [==============================] - 15s 300ms/step - loss: 4.3039e-04 - mean_squared_error: 4.3039e-04\n",
      "Epoch 45/100\n",
      "50/50 [==============================] - 16s 318ms/step - loss: 6.1466e-04 - mean_squared_error: 6.1466e-04\n",
      "Epoch 46/100\n",
      "50/50 [==============================] - 16s 314ms/step - loss: 4.7691e-04 - mean_squared_error: 4.7691e-04\n",
      "Epoch 47/100\n",
      "50/50 [==============================] - 16s 311ms/step - loss: 4.5031e-04 - mean_squared_error: 4.5031e-04\n",
      "Epoch 48/100\n",
      "50/50 [==============================] - 15s 299ms/step - loss: 4.0597e-04 - mean_squared_error: 4.0597e-04\n",
      "Epoch 49/100\n",
      "50/50 [==============================] - 15s 300ms/step - loss: 4.0642e-04 - mean_squared_error: 4.0642e-04\n",
      "Epoch 50/100\n",
      "50/50 [==============================] - 15s 303ms/step - loss: 4.3373e-04 - mean_squared_error: 4.3373e-04\n",
      "Epoch 51/100\n",
      "50/50 [==============================] - 16s 319ms/step - loss: 4.4457e-04 - mean_squared_error: 4.4457e-04\n",
      "Epoch 52/100\n",
      "50/50 [==============================] - 15s 305ms/step - loss: 4.8253e-04 - mean_squared_error: 4.8253e-04\n",
      "Epoch 53/100\n",
      "50/50 [==============================] - 15s 301ms/step - loss: 3.9997e-04 - mean_squared_error: 3.9997e-04\n",
      "Epoch 54/100\n",
      "50/50 [==============================] - 15s 303ms/step - loss: 4.4140e-04 - mean_squared_error: 4.4140e-04\n",
      "Epoch 55/100\n",
      "50/50 [==============================] - 15s 300ms/step - loss: 4.2569e-04 - mean_squared_error: 4.2569e-04\n",
      "Epoch 56/100\n",
      "50/50 [==============================] - 15s 298ms/step - loss: 4.1166e-04 - mean_squared_error: 4.1166e-04\n",
      "Epoch 57/100\n",
      "50/50 [==============================] - 15s 299ms/step - loss: 4.4170e-04 - mean_squared_error: 4.4170e-04\n",
      "Epoch 58/100\n",
      "50/50 [==============================] - 14s 276ms/step - loss: 4.1032e-04 - mean_squared_error: 4.1032e-04\n",
      "Epoch 59/100\n",
      "50/50 [==============================] - 14s 275ms/step - loss: 4.4976e-04 - mean_squared_error: 4.4976e-04\n",
      "Epoch 60/100\n",
      "50/50 [==============================] - 14s 275ms/step - loss: 4.1574e-04 - mean_squared_error: 4.1574e-04\n",
      "Epoch 61/100\n",
      "50/50 [==============================] - 14s 277ms/step - loss: 4.2475e-04 - mean_squared_error: 4.2475e-04\n",
      "Epoch 62/100\n",
      "50/50 [==============================] - 14s 281ms/step - loss: 3.9076e-04 - mean_squared_error: 3.9076e-04\n",
      "Epoch 63/100\n",
      "50/50 [==============================] - 14s 287ms/step - loss: 3.5193e-04 - mean_squared_error: 3.5193e-04\n",
      "Epoch 64/100\n",
      "50/50 [==============================] - 15s 291ms/step - loss: 4.1801e-04 - mean_squared_error: 4.1801e-04\n",
      "Epoch 65/100\n",
      "50/50 [==============================] - 15s 293ms/step - loss: 4.3305e-04 - mean_squared_error: 4.3305e-04\n",
      "Epoch 66/100\n",
      "50/50 [==============================] - 15s 294ms/step - loss: 3.6004e-04 - mean_squared_error: 3.6004e-04\n",
      "Epoch 67/100\n",
      "50/50 [==============================] - 15s 296ms/step - loss: 4.2771e-04 - mean_squared_error: 4.2771e-04\n",
      "Epoch 68/100\n"
     ]
    },
    {
     "name": "stdout",
     "output_type": "stream",
     "text": [
      "50/50 [==============================] - 15s 299ms/step - loss: 3.9852e-04 - mean_squared_error: 3.9852e-04\n",
      "Epoch 69/100\n",
      "50/50 [==============================] - 15s 293ms/step - loss: 4.6971e-04 - mean_squared_error: 4.6971e-04\n",
      "Epoch 70/100\n",
      "50/50 [==============================] - 14s 289ms/step - loss: 3.8667e-04 - mean_squared_error: 3.8667e-04\n",
      "Epoch 71/100\n",
      "50/50 [==============================] - 14s 283ms/step - loss: 4.3409e-04 - mean_squared_error: 4.3409e-04\n",
      "Epoch 72/100\n",
      "50/50 [==============================] - 15s 299ms/step - loss: 3.8005e-04 - mean_squared_error: 3.8005e-04\n",
      "Epoch 73/100\n",
      "50/50 [==============================] - 15s 303ms/step - loss: 4.6654e-04 - mean_squared_error: 4.6654e-04\n",
      "Epoch 74/100\n",
      "50/50 [==============================] - 15s 304ms/step - loss: 4.3183e-04 - mean_squared_error: 4.3183e-04\n",
      "Epoch 75/100\n",
      "50/50 [==============================] - 15s 302ms/step - loss: 3.9194e-04 - mean_squared_error: 3.9194e-04\n",
      "Epoch 76/100\n",
      "50/50 [==============================] - 15s 303ms/step - loss: 4.0384e-04 - mean_squared_error: 4.0384e-04\n",
      "Epoch 77/100\n",
      "50/50 [==============================] - 15s 308ms/step - loss: 4.1096e-04 - mean_squared_error: 4.1096e-04\n",
      "Epoch 78/100\n",
      "50/50 [==============================] - 213s 4s/step - loss: 4.2561e-04 - mean_squared_error: 4.2561e-04\n",
      "Epoch 79/100\n",
      "50/50 [==============================] - 17s 329ms/step - loss: 3.6465e-04 - mean_squared_error: 3.6465e-04\n",
      "Epoch 80/100\n",
      "50/50 [==============================] - 16s 316ms/step - loss: 3.8677e-04 - mean_squared_error: 3.8677e-04\n",
      "Epoch 81/100\n",
      "50/50 [==============================] - 15s 309ms/step - loss: 3.7449e-04 - mean_squared_error: 3.7449e-04\n",
      "Epoch 82/100\n",
      "50/50 [==============================] - 15s 303ms/step - loss: 3.8717e-04 - mean_squared_error: 3.8717e-04\n",
      "Epoch 83/100\n",
      "50/50 [==============================] - 15s 300ms/step - loss: 3.6189e-04 - mean_squared_error: 3.6189e-04\n",
      "Epoch 84/100\n",
      "50/50 [==============================] - 16s 319ms/step - loss: 3.7773e-04 - mean_squared_error: 3.7773e-04\n",
      "Epoch 85/100\n",
      "50/50 [==============================] - 16s 313ms/step - loss: 3.8919e-04 - mean_squared_error: 3.8919e-04\n",
      "Epoch 86/100\n",
      "50/50 [==============================] - 15s 309ms/step - loss: 3.7036e-04 - mean_squared_error: 3.7036e-04\n",
      "Epoch 87/100\n",
      "50/50 [==============================] - 16s 312ms/step - loss: 4.1872e-04 - mean_squared_error: 4.1872e-04\n",
      "Epoch 88/100\n",
      "50/50 [==============================] - 16s 320ms/step - loss: 3.6984e-04 - mean_squared_error: 3.6984e-04\n",
      "Epoch 89/100\n",
      "50/50 [==============================] - 16s 322ms/step - loss: 4.3857e-04 - mean_squared_error: 4.3857e-04\n",
      "Epoch 90/100\n",
      "50/50 [==============================] - 16s 322ms/step - loss: 3.5968e-04 - mean_squared_error: 3.5968e-04\n",
      "Epoch 91/100\n",
      "50/50 [==============================] - 17s 342ms/step - loss: 4.6716e-04 - mean_squared_error: 4.6716e-04\n",
      "Epoch 92/100\n",
      "50/50 [==============================] - 17s 338ms/step - loss: 4.8875e-04 - mean_squared_error: 4.8875e-04\n",
      "Epoch 93/100\n",
      "50/50 [==============================] - 16s 322ms/step - loss: 3.7357e-04 - mean_squared_error: 3.7357e-04\n",
      "Epoch 94/100\n",
      "50/50 [==============================] - 16s 327ms/step - loss: 3.7816e-04 - mean_squared_error: 3.7816e-04\n",
      "Epoch 95/100\n",
      "50/50 [==============================] - 16s 329ms/step - loss: 3.4216e-04 - mean_squared_error: 3.4216e-04\n",
      "Epoch 96/100\n",
      "50/50 [==============================] - 16s 325ms/step - loss: 3.9367e-04 - mean_squared_error: 3.9367e-04\n",
      "Epoch 97/100\n",
      "50/50 [==============================] - 16s 324ms/step - loss: 3.3194e-04 - mean_squared_error: 3.3194e-04\n",
      "Epoch 98/100\n",
      "50/50 [==============================] - 16s 316ms/step - loss: 4.0809e-04 - mean_squared_error: 4.0809e-04\n",
      "Epoch 99/100\n",
      "50/50 [==============================] - 16s 316ms/step - loss: 4.2888e-04 - mean_squared_error: 4.2888e-04\n",
      "Epoch 100/100\n",
      "50/50 [==============================] - 16s 324ms/step - loss: 4.0564e-04 - mean_squared_error: 4.0564e-04\n"
     ]
    },
    {
     "data": {
      "text/plain": [
       "<keras.callbacks.History at 0x288e2b5a470>"
      ]
     },
     "execution_count": 5,
     "metadata": {},
     "output_type": "execute_result"
    }
   ],
   "source": [
    "data = df.filter([\"Close\"])\n",
    "\n",
    "dataset = data.values\n",
    "\n",
    "train_len = int(np.ceil(len(dataset) * 0.9))\n",
    "\n",
    "scaler = MinMaxScaler(feature_range=(0, 1))\n",
    "scaled_data = scaler.fit_transform(dataset)\n",
    "\n",
    "train_data = scaled_data[:train_len, :]\n",
    "\n",
    "seq_len = 90\n",
    "x_train, y_train = [], []\n",
    "\n",
    "for i in range(seq_len, len(train_data)):\n",
    "    x_train.append(train_data[i - seq_len : i, 0])\n",
    "    y_train.append(train_data[i, 0])\n",
    "\n",
    "x_train, y_train = np.array(x_train), np.array(y_train)\n",
    "print(\"Shape of x_train:\", x_train.shape)\n",
    "print(\"Shape of y_train:\", y_train.shape)\n",
    "x_train = np.reshape(x_train, (x_train.shape[0], x_train.shape[1], 1))\n",
    "\n",
    "model = Sequential()\n",
    "model.add(LSTM(256, return_sequences=True, input_shape=(x_train.shape[1],1)))\n",
    "model.add(Dropout(0.3))\n",
    "model.add(LSTM(128, return_sequences=False))\n",
    "model.add(Dropout(0.3))\n",
    "model.add(Dense(1, activation=\"linear\"))\n",
    "\n",
    "model.compile(\n",
    "    optimizer=\"adam\", loss=\"mean_squared_error\", metrics=[\"mean_squared_error\"]\n",
    "    )\n",
    "model.fit(x_train, y_train, batch_size=64, epochs=100)"
   ]
  },
  {
   "cell_type": "code",
   "execution_count": 6,
   "id": "29cb1a12",
   "metadata": {},
   "outputs": [],
   "source": [
    "model.save(r\"C:\\Users\\VikashKumarChaudhary\\Documents\\LSTM/Model_V4.h5\")"
   ]
  },
  {
   "cell_type": "code",
   "execution_count": 7,
   "id": "d36d2c5b",
   "metadata": {},
   "outputs": [
    {
     "name": "stdout",
     "output_type": "stream",
     "text": [
      "12/12 [==============================] - 1s 62ms/step\n",
      "RMSE: 3.6651979249039304\n"
     ]
    }
   ],
   "source": [
    "# Load the test data\n",
    "from keras.models import load_model\n",
    "from sklearn.metrics import mean_squared_error\n",
    "\n",
    "test_data = pd.read_csv(r\"C:\\Users\\VikashKumarChaudhary\\Documents\\LSTM\\zomato1.csv\")\n",
    "test_data['Date'] = pd.to_datetime(test_data['Date'])\n",
    "test_data = test_data.set_index('Date')\n",
    "test_dataset = test_data.filter([\"Close\"]).values\n",
    "\n",
    "scaler = MinMaxScaler(feature_range=(0, 1))\n",
    "scaled_test_data = scaler.fit_transform(test_dataset)\n",
    "\n",
    "seq_len = 90\n",
    "x_test, y_test = [], []\n",
    "for i in range(seq_len, len(scaled_test_data)):\n",
    "    x_test.append(scaled_test_data[i - seq_len: i])\n",
    "    y_test.append(scaled_test_data[i])\n",
    "\n",
    "x_test, y_test = np.array(x_test), np.array(y_test)\n",
    "\n",
    "model = load_model(r\"C:\\Users\\VikashKumarChaudhary\\Documents\\LSTM/Model_V4.h5\")\n",
    "\n",
    "predictions = model.predict(x_test)\n",
    "\n",
    "predictions = scaler.inverse_transform(predictions)\n",
    "y_test = scaler.inverse_transform(y_test)\n",
    "\n",
    "mse = mean_squared_error(y_test, predictions)\n",
    "\n",
    "accuracy = np.sqrt(mse)\n",
    "\n",
    "print(\"RMSE:\", accuracy)\n"
   ]
  },
  {
   "cell_type": "code",
   "execution_count": null,
   "id": "bebdfa7d",
   "metadata": {},
   "outputs": [],
   "source": []
  }
 ],
 "metadata": {
  "kernelspec": {
   "display_name": "Python 3 (ipykernel)",
   "language": "python",
   "name": "python3"
  },
  "language_info": {
   "codemirror_mode": {
    "name": "ipython",
    "version": 3
   },
   "file_extension": ".py",
   "mimetype": "text/x-python",
   "name": "python",
   "nbconvert_exporter": "python",
   "pygments_lexer": "ipython3",
   "version": "3.10.9"
  }
 },
 "nbformat": 4,
 "nbformat_minor": 5
}
