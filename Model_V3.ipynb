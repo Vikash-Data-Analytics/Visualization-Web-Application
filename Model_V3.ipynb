{
 "cells": [
  {
   "cell_type": "code",
   "execution_count": 1,
   "id": "54b2b953",
   "metadata": {},
   "outputs": [],
   "source": [
    "import numpy as np\n",
    "import pandas as pd\n",
    "from fastapi import FastAPI, HTTPException\n",
    "from keras.layers import LSTM, Dense, Dropout\n",
    "from keras.models import Sequential\n",
    "from pydantic import BaseModel\n",
    "from sklearn.preprocessing import MinMaxScaler\n",
    "import yfinance as yf"
   ]
  },
  {
   "cell_type": "code",
   "execution_count": 2,
   "id": "30baa642",
   "metadata": {},
   "outputs": [
    {
     "name": "stdout",
     "output_type": "stream",
     "text": [
      "[*********************100%***********************]  1 of 1 completed\n"
     ]
    }
   ],
   "source": [
    "df = yf.download(tickers='ZOMATO.NS', period='1y', interval='1h')\n",
    "\n",
    "# df2 = yf.download(tickers='ZOMATO.NS', period='475d', interval='1d')\n",
    "\n",
    "# df3 = yf.download(tickers='TCS.NS', period='475d', interval='1d')\n",
    "\n",
    "# df4 = yf.download(tickers='HDFCBANK.NS', period='475d', interval='1d')"
   ]
  },
  {
   "cell_type": "code",
   "execution_count": 3,
   "id": "861ea083",
   "metadata": {},
   "outputs": [],
   "source": [
    "# df1.to_csv(r\"C:\\Users\\VikashKumarChaudhary\\Documents\\LSTM\\API_R.csv\")"
   ]
  },
  {
   "cell_type": "code",
   "execution_count": 4,
   "id": "9bd7344a",
   "metadata": {},
   "outputs": [],
   "source": [
    "# df3"
   ]
  },
  {
   "cell_type": "code",
   "execution_count": 5,
   "id": "39f18c3b",
   "metadata": {},
   "outputs": [],
   "source": [
    "# df4.shape"
   ]
  },
  {
   "cell_type": "code",
   "execution_count": 6,
   "id": "4b4a1418",
   "metadata": {},
   "outputs": [],
   "source": [
    "# df = pd.concat([df1,df2,df3,df4],ignore_index = True)"
   ]
  },
  {
   "cell_type": "code",
   "execution_count": 7,
   "id": "5695b1b4",
   "metadata": {},
   "outputs": [
    {
     "data": {
      "text/html": [
       "<div>\n",
       "<style scoped>\n",
       "    .dataframe tbody tr th:only-of-type {\n",
       "        vertical-align: middle;\n",
       "    }\n",
       "\n",
       "    .dataframe tbody tr th {\n",
       "        vertical-align: top;\n",
       "    }\n",
       "\n",
       "    .dataframe thead th {\n",
       "        text-align: right;\n",
       "    }\n",
       "</style>\n",
       "<table border=\"1\" class=\"dataframe\">\n",
       "  <thead>\n",
       "    <tr style=\"text-align: right;\">\n",
       "      <th></th>\n",
       "      <th>Open</th>\n",
       "      <th>High</th>\n",
       "      <th>Low</th>\n",
       "      <th>Close</th>\n",
       "      <th>Adj Close</th>\n",
       "      <th>Volume</th>\n",
       "    </tr>\n",
       "    <tr>\n",
       "      <th>Datetime</th>\n",
       "      <th></th>\n",
       "      <th></th>\n",
       "      <th></th>\n",
       "      <th></th>\n",
       "      <th></th>\n",
       "      <th></th>\n",
       "    </tr>\n",
       "  </thead>\n",
       "  <tbody>\n",
       "    <tr>\n",
       "      <th>2022-12-22 09:15:00+05:30</th>\n",
       "      <td>61.700001</td>\n",
       "      <td>62.000000</td>\n",
       "      <td>60.049999</td>\n",
       "      <td>60.950001</td>\n",
       "      <td>60.950001</td>\n",
       "      <td>0</td>\n",
       "    </tr>\n",
       "    <tr>\n",
       "      <th>2022-12-22 10:15:00+05:30</th>\n",
       "      <td>61.000000</td>\n",
       "      <td>61.150002</td>\n",
       "      <td>59.750000</td>\n",
       "      <td>60.250000</td>\n",
       "      <td>60.250000</td>\n",
       "      <td>5684077</td>\n",
       "    </tr>\n",
       "    <tr>\n",
       "      <th>2022-12-22 11:15:00+05:30</th>\n",
       "      <td>60.200001</td>\n",
       "      <td>60.599998</td>\n",
       "      <td>59.950001</td>\n",
       "      <td>60.200001</td>\n",
       "      <td>60.200001</td>\n",
       "      <td>4318543</td>\n",
       "    </tr>\n",
       "    <tr>\n",
       "      <th>2022-12-22 12:15:00+05:30</th>\n",
       "      <td>60.200001</td>\n",
       "      <td>61.200001</td>\n",
       "      <td>60.099998</td>\n",
       "      <td>61.000000</td>\n",
       "      <td>61.000000</td>\n",
       "      <td>5407990</td>\n",
       "    </tr>\n",
       "    <tr>\n",
       "      <th>2022-12-22 13:15:00+05:30</th>\n",
       "      <td>61.000000</td>\n",
       "      <td>61.450001</td>\n",
       "      <td>59.900002</td>\n",
       "      <td>60.049999</td>\n",
       "      <td>60.049999</td>\n",
       "      <td>9484416</td>\n",
       "    </tr>\n",
       "    <tr>\n",
       "      <th>...</th>\n",
       "      <td>...</td>\n",
       "      <td>...</td>\n",
       "      <td>...</td>\n",
       "      <td>...</td>\n",
       "      <td>...</td>\n",
       "      <td>...</td>\n",
       "    </tr>\n",
       "    <tr>\n",
       "      <th>2023-12-21 11:15:00+05:30</th>\n",
       "      <td>126.000000</td>\n",
       "      <td>126.750000</td>\n",
       "      <td>125.599998</td>\n",
       "      <td>126.550003</td>\n",
       "      <td>126.550003</td>\n",
       "      <td>5687090</td>\n",
       "    </tr>\n",
       "    <tr>\n",
       "      <th>2023-12-21 12:15:00+05:30</th>\n",
       "      <td>126.599998</td>\n",
       "      <td>127.500000</td>\n",
       "      <td>126.400002</td>\n",
       "      <td>126.900002</td>\n",
       "      <td>126.900002</td>\n",
       "      <td>5127050</td>\n",
       "    </tr>\n",
       "    <tr>\n",
       "      <th>2023-12-21 13:15:00+05:30</th>\n",
       "      <td>126.900002</td>\n",
       "      <td>127.000000</td>\n",
       "      <td>125.199997</td>\n",
       "      <td>125.349998</td>\n",
       "      <td>125.349998</td>\n",
       "      <td>5430433</td>\n",
       "    </tr>\n",
       "    <tr>\n",
       "      <th>2023-12-21 14:15:00+05:30</th>\n",
       "      <td>125.250000</td>\n",
       "      <td>127.599998</td>\n",
       "      <td>124.550003</td>\n",
       "      <td>127.400002</td>\n",
       "      <td>127.400002</td>\n",
       "      <td>8057769</td>\n",
       "    </tr>\n",
       "    <tr>\n",
       "      <th>2023-12-21 15:15:00+05:30</th>\n",
       "      <td>127.349998</td>\n",
       "      <td>128.699997</td>\n",
       "      <td>127.099998</td>\n",
       "      <td>128.300003</td>\n",
       "      <td>128.300003</td>\n",
       "      <td>3618324</td>\n",
       "    </tr>\n",
       "  </tbody>\n",
       "</table>\n",
       "<p>1722 rows × 6 columns</p>\n",
       "</div>"
      ],
      "text/plain": [
       "                                 Open        High         Low       Close  \\\n",
       "Datetime                                                                    \n",
       "2022-12-22 09:15:00+05:30   61.700001   62.000000   60.049999   60.950001   \n",
       "2022-12-22 10:15:00+05:30   61.000000   61.150002   59.750000   60.250000   \n",
       "2022-12-22 11:15:00+05:30   60.200001   60.599998   59.950001   60.200001   \n",
       "2022-12-22 12:15:00+05:30   60.200001   61.200001   60.099998   61.000000   \n",
       "2022-12-22 13:15:00+05:30   61.000000   61.450001   59.900002   60.049999   \n",
       "...                               ...         ...         ...         ...   \n",
       "2023-12-21 11:15:00+05:30  126.000000  126.750000  125.599998  126.550003   \n",
       "2023-12-21 12:15:00+05:30  126.599998  127.500000  126.400002  126.900002   \n",
       "2023-12-21 13:15:00+05:30  126.900002  127.000000  125.199997  125.349998   \n",
       "2023-12-21 14:15:00+05:30  125.250000  127.599998  124.550003  127.400002   \n",
       "2023-12-21 15:15:00+05:30  127.349998  128.699997  127.099998  128.300003   \n",
       "\n",
       "                            Adj Close   Volume  \n",
       "Datetime                                        \n",
       "2022-12-22 09:15:00+05:30   60.950001        0  \n",
       "2022-12-22 10:15:00+05:30   60.250000  5684077  \n",
       "2022-12-22 11:15:00+05:30   60.200001  4318543  \n",
       "2022-12-22 12:15:00+05:30   61.000000  5407990  \n",
       "2022-12-22 13:15:00+05:30   60.049999  9484416  \n",
       "...                               ...      ...  \n",
       "2023-12-21 11:15:00+05:30  126.550003  5687090  \n",
       "2023-12-21 12:15:00+05:30  126.900002  5127050  \n",
       "2023-12-21 13:15:00+05:30  125.349998  5430433  \n",
       "2023-12-21 14:15:00+05:30  127.400002  8057769  \n",
       "2023-12-21 15:15:00+05:30  128.300003  3618324  \n",
       "\n",
       "[1722 rows x 6 columns]"
      ]
     },
     "execution_count": 7,
     "metadata": {},
     "output_type": "execute_result"
    }
   ],
   "source": [
    "df"
   ]
  },
  {
   "cell_type": "code",
   "execution_count": 8,
   "id": "0bab35aa",
   "metadata": {},
   "outputs": [],
   "source": [
    "# df['Date'] = pd.to_datetime(df['Date'])\n",
    "# df = df.set_index('Date')\n",
    "\n",
    "data = df.filter([\"Open\", \"High\", \"Low\", \"Close\",])\n",
    "dataset = data.values"
   ]
  },
  {
   "cell_type": "code",
   "execution_count": 9,
   "id": "e188043f",
   "metadata": {},
   "outputs": [],
   "source": [
    "scaler = MinMaxScaler(feature_range=(0, 1))\n",
    "scaled_data = scaler.fit_transform(dataset)"
   ]
  },
  {
   "cell_type": "code",
   "execution_count": 10,
   "id": "63aef2c6",
   "metadata": {},
   "outputs": [],
   "source": [
    "seq_len = 60\n",
    "train_size = int(len(scaled_data) * 0.6)\n",
    "train_data = scaled_data[:train_size]\n",
    "test_data = scaled_data[train_size - seq_len:]"
   ]
  },
  {
   "cell_type": "code",
   "execution_count": 11,
   "id": "ee0643f4",
   "metadata": {},
   "outputs": [],
   "source": [
    "x_train, y_train = [], []\n",
    "for i in range(seq_len, len(train_data)):\n",
    "    x_train.append(train_data[i - seq_len: i])\n",
    "    y_train.append(train_data[i])\n",
    "\n",
    "x_train, y_train = np.array(x_train), np.array(y_train)"
   ]
  },
  {
   "cell_type": "code",
   "execution_count": 12,
   "id": "d98ff46a",
   "metadata": {},
   "outputs": [],
   "source": [
    "model = Sequential()\n",
    "model.add(LSTM(128, return_sequences=True, input_shape=(x_train.shape[1], x_train.shape[2])))\n",
    "model.add(Dropout(0.2))\n",
    "model.add(LSTM(64,return_sequences = False))\n",
    "model.add(Dropout(0.3))\n",
    "# model.add(LSTM(64, return_sequences = False))\n",
    "# model.add(Dropout(0.4))\n",
    "# model.add(LSTM(64))\n",
    "# model.add(Dropout(0.2))\n",
    "model.add(Dense(25))\n",
    "model.add(Dense(4))"
   ]
  },
  {
   "cell_type": "code",
   "execution_count": 13,
   "id": "947856cd",
   "metadata": {},
   "outputs": [
    {
     "name": "stdout",
     "output_type": "stream",
     "text": [
      "Epoch 1/10\n"
     ]
    },
    {
     "ename": "",
     "evalue": "",
     "output_type": "error",
     "traceback": [
      "\u001b[1;31mThe Kernel crashed while executing code in the the current cell or a previous cell. Please review the code in the cell(s) to identify a possible cause of the failure. Click <a href='https://aka.ms/vscodeJupyterKernelCrash'>here</a> for more info. View Jupyter <a href='command:jupyter.viewOutput'>log</a> for further details."
     ]
    }
   ],
   "source": [
    "model.compile(optimizer='adam', loss='mean_squared_error')\n",
    "model.fit(x_train, y_train, batch_size=15, epochs=10)"
   ]
  },
  {
   "cell_type": "code",
   "execution_count": null,
   "id": "c9c275e5",
   "metadata": {},
   "outputs": [],
   "source": [
    "model.save(r\"C:\\Users\\VikashKumarChaudhary\\Documents\\LSTM/Model_V5.h5\")"
   ]
  },
  {
   "cell_type": "code",
   "execution_count": null,
   "id": "8e25b30e",
   "metadata": {},
   "outputs": [
    {
     "name": "stdout",
     "output_type": "stream",
     "text": [
      "37/37 [==============================] - 1s 15ms/step\n",
      "RMSE: 132.44942328241396\n"
     ]
    }
   ],
   "source": [
    "# Load the test data\n",
    "from keras.models import load_model\n",
    "from sklearn.metrics import mean_squared_error\n",
    "\n",
    "test_data = pd.read_csv(r\"C:\\Users\\VikashKumarChaudhary\\Documents\\LSTM\\Stock_Final\\RELIANCE2.csv\")\n",
    "test_data['Date'] = pd.to_datetime(test_data['Date'])\n",
    "test_data = test_data.set_index('Date')\n",
    "test_dataset = test_data.filter([\"Open\", \"High\", \"Low\", \"Close\"]).values\n",
    "\n",
    "scaler = MinMaxScaler(feature_range=(0, 1))\n",
    "scaled_test_data = scaler.fit_transform(test_dataset)\n",
    "\n",
    "seq_len = 60\n",
    "x_test, y_test = [], []\n",
    "for i in range(seq_len, len(scaled_test_data)):\n",
    "    x_test.append(scaled_test_data[i - seq_len: i])\n",
    "    y_test.append(scaled_test_data[i])\n",
    "\n",
    "x_test, y_test = np.array(x_test), np.array(y_test)\n",
    "\n",
    "model = load_model(r\"C:\\Users\\VikashKumarChaudhary\\Documents\\LSTM/Model_V5.h5\")\n",
    "\n",
    "predictions = model.predict(x_test)\n",
    "\n",
    "predictions = scaler.inverse_transform(predictions)\n",
    "y_test = scaler.inverse_transform(y_test)\n",
    "\n",
    "mse = mean_squared_error(y_test, predictions)\n",
    "\n",
    "accuracy = np.sqrt(mse)\n",
    "\n",
    "print(\"RMSE:\", accuracy)\n"
   ]
  },
  {
   "cell_type": "code",
   "execution_count": null,
   "id": "b689b515",
   "metadata": {},
   "outputs": [],
   "source": []
  }
 ],
 "metadata": {
  "kernelspec": {
   "display_name": "Python 3 (ipykernel)",
   "language": "python",
   "name": "python3"
  },
  "language_info": {
   "codemirror_mode": {
    "name": "ipython",
    "version": 3
   },
   "file_extension": ".py",
   "mimetype": "text/x-python",
   "name": "python",
   "nbconvert_exporter": "python",
   "pygments_lexer": "ipython3",
   "version": "3.10.9"
  }
 },
 "nbformat": 4,
 "nbformat_minor": 5
}
